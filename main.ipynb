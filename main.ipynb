{
 "cells": [
  {
   "cell_type": "code",
   "execution_count": 1,
   "id": "4b731c55-9ba6-4108-9694-2a2ba4dbe78c",
   "metadata": {
    "tags": []
   },
   "outputs": [
    {
     "name": "stdout",
     "output_type": "stream",
     "text": [
      "Num GPUs Available:  1\n",
      "Using memory growth regime.\n"
     ]
    },
    {
     "name": "stderr",
     "output_type": "stream",
     "text": [
      "2023-05-02 20:55:39.045065: I tensorflow/stream_executor/cuda/cuda_gpu_executor.cc:936] successful NUMA node read from SysFS had negative value (-1), but there must be at least one NUMA node, so returning NUMA node zero\n",
      "2023-05-02 20:55:39.064032: I tensorflow/stream_executor/cuda/cuda_gpu_executor.cc:936] successful NUMA node read from SysFS had negative value (-1), but there must be at least one NUMA node, so returning NUMA node zero\n",
      "2023-05-02 20:55:39.064193: I tensorflow/stream_executor/cuda/cuda_gpu_executor.cc:936] successful NUMA node read from SysFS had negative value (-1), but there must be at least one NUMA node, so returning NUMA node zero\n"
     ]
    }
   ],
   "source": [
    "import numpy as np\n",
    "import pandas as pd\n",
    "import os, io, random\n",
    "os.environ['CUDA_VISIBLE_DEVICES'] = \"0\"\n",
    "import tensorflow as tf\n",
    "import tensorflow.keras as k\n",
    "physical_devices = tf.config.list_physical_devices('GPU')\n",
    "print(\"Num GPUs Available: \", len(physical_devices))\n",
    "try:\n",
    "    tf.config.experimental.set_memory_growth(physical_devices[0], True)\n",
    "    print(\"Using memory growth regime.\")\n",
    "except:\n",
    "  # Invalid device or cannot modify virtual devices once initialized.\n",
    "  pass\n"
   ]
  },
  {
   "cell_type": "markdown",
   "id": "216bb172-a17c-4fd4-acaa-c83b6f1d4ca6",
   "metadata": {},
   "source": [
    "#### Step 1: Creating the gridworld."
   ]
  },
  {
   "cell_type": "code",
   "execution_count": 8,
   "id": "1980668f-9210-4ebf-8df3-36af42ff272f",
   "metadata": {
    "tags": []
   },
   "outputs": [
    {
     "name": "stdout",
     "output_type": "stream",
     "text": [
      "Model: \"model_1\"\n",
      "_________________________________________________________________\n",
      " Layer (type)                Output Shape              Param #   \n",
      "=================================================================\n",
      " input_2 (InputLayer)        [(None, 3, 3, 16)]        0         \n",
      "                                                                 \n",
      " conv2d_1 (Conv2D)           (None, 1, 1, 16)          2320      \n",
      "                                                                 \n",
      " reshape_1 (Reshape)         (None, 1, 16)             0         \n",
      "                                                                 \n",
      " conv1d_2 (Conv1D)           (None, 1, 32)             2592      \n",
      "                                                                 \n",
      " conv1d_3 (Conv1D)           (None, 1, 32)             3104      \n",
      "                                                                 \n",
      " flatten_1 (Flatten)         (None, 32)                0         \n",
      "                                                                 \n",
      " dense_1 (Dense)             (None, 16)                528       \n",
      "                                                                 \n",
      "=================================================================\n",
      "Total params: 8,544\n",
      "Trainable params: 8,544\n",
      "Non-trainable params: 0\n",
      "_________________________________________________________________\n"
     ]
    }
   ],
   "source": [
    "# Vector shape per cell = 32:\n",
    "\"\"\"\n",
    "1 -> R\n",
    "2 -> G\n",
    "3 -> B\n",
    "4 -> Alpha (dead or alive)\n",
    "5 - 32 -> hidden variables of the cell.\n",
    "\"\"\"\n",
    "\n",
    "# Image resolution = 256 * 256\n",
    "# Center the image and put it in the middle of the grid, with active pixels taking up roughly 1/2 of the space (128 * 128)\n",
    "# Map shape = (256, 256, 32)\n",
    "\n",
    "HYPERPARAMS = {'min-steps': 0,\n",
    "               'max-steps': 0,\n",
    "               'min-backprop-steps': 64,\n",
    "               'max-backprop-steps': 96,\n",
    "               'map_width': 48,\n",
    "               'map_height': 48,\n",
    "              'cell_vars': 16,\n",
    "              'kernel_size':(3,3),\n",
    "              'alive_threshold':0.1}\n",
    "from tensorflow.keras import layers, optimizers, models\n",
    "in_ = layers.Input((*HYPERPARAMS['kernel_size'], HYPERPARAMS['cell_vars']))\n",
    "x = layers.Conv2D(HYPERPARAMS['cell_vars'], kernel_size = HYPERPARAMS['kernel_size'], padding = \"valid\", activation=\"relu\")(in_)\n",
    "x = layers.Reshape((1, HYPERPARAMS['cell_vars']))(x)\n",
    "\n",
    "def layer(x, n=5):\n",
    "    x = layers.Conv1D(32, kernel_size = n, padding = \"same\", activation='relu')(x)\n",
    "    return x\n",
    "x = layer(x, 5)\n",
    "x = layer(x, 3) \n",
    "x = layers.Flatten()(x)\n",
    "x = layers.Dense(HYPERPARAMS[\"cell_vars\"], kernel_initializer=\"zeros\",bias_initializer=\"zeros\")(x)\n",
    "update_model = models.Model(in_, x)\n",
    "update_model.summary()"
   ]
  },
  {
   "cell_type": "code",
   "execution_count": 3,
   "id": "e676ccd7-b592-41ac-8c02-35281a640d62",
   "metadata": {
    "tags": []
   },
   "outputs": [],
   "source": [
    "import random\n",
    "\n",
    "def clip(x, min_=0, max_=255):\n",
    "    if x > max_: return max_\n",
    "    if x < min_: return min_\n",
    "    else: return x\n",
    "\n",
    "def update_grid(grid, update_p = 0.5):\n",
    "    \n",
    "    patches = tf.image.extract_patches(\n",
    "    tf.reshape(grid, (1, HYPERPARAMS['map_height'], HYPERPARAMS['map_width'], HYPERPARAMS['cell_vars'])), (1,*HYPERPARAMS['kernel_size'],1), (1,1,1,1), (1,1,1,1), padding='SAME')\n",
    "    input_batch = tf.reshape(patches, (HYPERPARAMS['map_height'],HYPERPARAMS['map_width'], *HYPERPARAMS['kernel_size'], HYPERPARAMS['cell_vars']))\n",
    "    input_batch = tf.reshape(input_batch, (HYPERPARAMS['map_height']*HYPERPARAMS['map_width'], *HYPERPARAMS['kernel_size'], HYPERPARAMS['cell_vars']))\n",
    "    \"\"\"\n",
    "    input_batch = []; alive_mask = []\n",
    "    for i in range(256):\n",
    "        input_row = []; alive_row = []\n",
    "        for j in range(256):\n",
    "            \n",
    "            input_mat = np.array([ [grid[clip(i+ik)][clip(j+jk)] for jk in range(-1, 2)] for ik in range(-1, 2)])\n",
    "            \n",
    "            # If there are no living cells in the neighborhood, mark it as dead.\n",
    "            if np.max(input_mat[:, :, 3]) < HYPERPARAMS['alive_threshold']: alive_row.append(0)\n",
    "            else: alive_row.append(1)\n",
    "            input_row.append(input_mat)\n",
    "            \n",
    "        input_batch.append(input_row); alive_mask.append(alive_row)\n",
    "    input_batch = np.array(input_batch); alive_mask = np.array(alive_mask)\n",
    "\n",
    "    input_batch = tf.convert_to_tensor(input_batch.reshape((256*256, 3, 3, 32)), dtype=tf.float32)\n",
    "    \"\"\"\n",
    "    alive_mask = tf.math.reduce_max(tf.reshape(input_batch, (HYPERPARAMS['map_height'],HYPERPARAMS['map_width'],HYPERPARAMS['kernel_size'][0] * HYPERPARAMS['kernel_size'][1],HYPERPARAMS['cell_vars']))[:,:,:,3], axis=2) > HYPERPARAMS['alive_threshold']\n",
    "    alive_mask = tf.cast(tf.reshape(alive_mask, (HYPERPARAMS['map_height'], HYPERPARAMS['map_width'], 1)), tf.float32)\n",
    "    mask = tf.random.categorical(tf.math.log([[0.5, 0.5]]), HYPERPARAMS['map_height']*HYPERPARAMS['map_width'])\n",
    "    mask = tf.cast(tf.reshape(mask, (HYPERPARAMS['map_height'], HYPERPARAMS['map_width'], 1)), tf.float32)\n",
    "\n",
    "    update_batch = update_model(input_batch)\n",
    "    update_batch = tf.reshape(update_batch, (HYPERPARAMS['map_height'], HYPERPARAMS['map_width'], HYPERPARAMS['cell_vars']))\n",
    "    #mask = tf.Tensor(np.random.choice(2, (256, 256, 1)))\n",
    "    # samples has shape [1, 5], where each value is either 0 or 1 with equal\n",
    "# probability.\n",
    "    update_batch = update_batch * alive_mask * mask\n",
    "    return update_batch"
   ]
  },
  {
   "cell_type": "code",
   "execution_count": 4,
   "id": "4190528d-53e4-4b91-bdb8-fe05295e52be",
   "metadata": {
    "tags": []
   },
   "outputs": [
    {
     "name": "stdout",
     "output_type": "stream",
     "text": [
      "--2023-05-02 01:26:41--  https://www.druva.com/content/dam/druvaincprogram/blog/thumbnails/blog-understanding-neural-networks-through-visualization-post.jpg\n",
      "Resolving www.druva.com (www.druva.com)... 146.75.95.10\n",
      "Connecting to www.druva.com (www.druva.com)|146.75.95.10|:443... connected.\n",
      "HTTP request sent, awaiting response... 200 OK\n",
      "Length: 370042 (361K) [image/jpeg]\n",
      "Saving to: ‘blog-understanding-neural-networks-through-visualization-post.jpg’\n",
      "\n",
      "blog-understanding- 100%[===================>] 361.37K  1.15MB/s    in 0.3s    \n",
      "\n",
      "2023-05-02 01:26:41 (1.15 MB/s) - ‘blog-understanding-neural-networks-through-visualization-post.jpg’ saved [370042/370042]\n",
      "\n"
     ]
    }
   ],
   "source": [
    "#!wget https://www.druva.com/content/dam/druvaincprogram/blog/thumbnails/blog-understanding-neural-networks-through-visualization-post.jpg\n",
    "#!mv blog-understanding-neural-networks-through-visualization-post.jpg target.jpg"
   ]
  },
  {
   "cell_type": "code",
   "execution_count": 9,
   "id": "408112c2-8a27-49ed-9665-6dcfb78f477f",
   "metadata": {
    "tags": []
   },
   "outputs": [
    {
     "name": "stdout",
     "output_type": "stream",
     "text": [
      "--2023-05-02 04:25:38--  https://raw.githubusercontent.com/googlefonts/noto-emoji/main/png/32/emoji_u1f5ff.png\n",
      "Resolving raw.githubusercontent.com (raw.githubusercontent.com)... 185.199.109.133, 185.199.110.133, 185.199.111.133, ...\n",
      "Connecting to raw.githubusercontent.com (raw.githubusercontent.com)|185.199.109.133|:443... connected.\n",
      "HTTP request sent, awaiting response... 200 OK\n",
      "Length: 1282 (1.3K) [image/png]\n",
      "Saving to: ‘emoji_u1f5ff.png’\n",
      "\n",
      "emoji_u1f5ff.png    100%[===================>]   1.25K  --.-KB/s    in 0s      \n",
      "\n",
      "2023-05-02 04:25:38 (81.5 MB/s) - ‘emoji_u1f5ff.png’ saved [1282/1282]\n",
      "\n"
     ]
    }
   ],
   "source": [
    "!wget https://raw.githubusercontent.com/googlefonts/noto-emoji/main/png/32/emoji_u1f5ff.png"
   ]
  },
  {
   "cell_type": "code",
   "execution_count": 10,
   "id": "bf49e064-671f-48f4-b771-d8e792964d54",
   "metadata": {
    "tags": []
   },
   "outputs": [],
   "source": [
    "!mv emoji_u1f5ff.png target.jpg"
   ]
  },
  {
   "cell_type": "code",
   "execution_count": 4,
   "id": "fbfae133-83da-41e8-a778-4543cb2b4ad5",
   "metadata": {
    "tags": []
   },
   "outputs": [
    {
     "name": "stderr",
     "output_type": "stream",
     "text": [
      "2023-05-02 04:54:59.321210: I tensorflow/stream_executor/cuda/cuda_blas.cc:1786] TensorFloat-32 will be used for the matrix multiplication. This will only be logged once.\n",
      "2023-05-02 04:54:59.411012: I tensorflow/stream_executor/cuda/cuda_dnn.cc:368] Loaded cuDNN version 8400\n",
      "2023-05-02 04:55:00.174233: I tensorflow/core/platform/default/subprocess.cc:304] Start cannot spawn child process: No such file or directory\n",
      "2023-05-02 04:55:00.175000: I tensorflow/core/platform/default/subprocess.cc:304] Start cannot spawn child process: No such file or directory\n",
      "2023-05-02 04:55:00.175017: W tensorflow/stream_executor/gpu/asm_compiler.cc:80] Couldn't get ptxas version string: INTERNAL: Couldn't invoke ptxas --version\n",
      "2023-05-02 04:55:00.175575: I tensorflow/core/platform/default/subprocess.cc:304] Start cannot spawn child process: No such file or directory\n",
      "2023-05-02 04:55:00.175632: W tensorflow/stream_executor/gpu/redzone_allocator.cc:314] INTERNAL: Failed to launch ptxas\n",
      "Relying on driver to perform ptx compilation. \n",
      "Modify $PATH to customize ptxas location.\n",
      "This message will be only logged once.\n"
     ]
    },
    {
     "data": {
      "text/plain": [
       "<tf.Tensor: shape=(16,), dtype=float32, numpy=\n",
       "array([5., 5., 5., 5., 5., 5., 5., 5., 5., 5., 5., 5., 5., 5., 5., 5.],\n",
       "      dtype=float32)>"
      ]
     },
     "execution_count": 4,
     "metadata": {},
     "output_type": "execute_result"
    }
   ],
   "source": [
    "grid = np.zeros((HYPERPARAMS['map_height'], HYPERPARAMS['map_width'], HYPERPARAMS['cell_vars']))\n",
    "grid[HYPERPARAMS['map_height']//2][HYPERPARAMS['map_width']//2] += 1 # Alive cell in the middle of the image\n",
    "grid = tf.convert_to_tensor(grid, dtype=tf.float32)\n",
    "with tf.GradientTape() as tape:\n",
    "    update_batch = update_grid(grid)\n",
    "grads = tape.gradient(update_batch, update_model.trainable_variables)\n",
    "grads[-1] # Check that the gradients are being calculated properly"
   ]
  },
  {
   "cell_type": "code",
   "execution_count": 7,
   "id": "d7d27597-1f80-4bec-b9d5-f33a9466ab4b",
   "metadata": {},
   "outputs": [
    {
     "name": "stdout",
     "output_type": "stream",
     "text": [
      "Image shape: (48, 48, 4)\n"
     ]
    },
    {
     "name": "stderr",
     "output_type": "stream",
     "text": [
      "/opt/conda/lib/python3.10/site-packages/keras/optimizer_v2/adam.py:105: UserWarning: The `lr` argument is deprecated, use `learning_rate` instead.\n",
      "  super(Adam, self).__init__(name, **kwargs)\n"
     ]
    },
    {
     "data": {
      "image/png": "[encoded data removed]",
      "text/plain": [
       "<Figure size 640x480 with 1 Axes>"
      ]
     },
     "metadata": {},
     "output_type": "display_data"
    }
   ],
   "source": [
    "def loss(pred, true):\n",
    "    return tf.reduce_mean(tf.square(true-pred))\n",
    "lr = 5e-5\n",
    "optimizer = k.optimizers.Adam(lr=lr)\n",
    "\n",
    "from skimage import io\n",
    "from skimage import transform\n",
    "import matplotlib.pyplot as plt\n",
    "\n",
    "cropped = io.imread(\"target.jpg\") / 255.0\n",
    "cropped = np.pad(cropped, ((8, 8), (8, 8), (0,0)), mode='constant')\n",
    "plt.imshow(cropped)\n",
    "print(\"Image shape:\", cropped.shape)\n",
    "cropped = tf.convert_to_tensor(cropped, dtype=tf.float32)\n",
    "#cropped = tf.concat((cropped, tf.ones((HYPERPARAMS['map_height'], HYPERPARAMS['map_width'], 1))), axis=2)"
   ]
  },
  {
   "cell_type": "markdown",
   "id": "1678945a-03da-4ec4-8076-d8d603c54448",
   "metadata": {},
   "source": [
    "### Training"
   ]
  },
  {
   "cell_type": "markdown",
   "id": "5df87086-7e17-41e6-8190-c1439f296ccf",
   "metadata": {
    "tags": []
   },
   "source": [
    "#### Phase 1:"
   ]
  },
  {
   "cell_type": "code",
   "execution_count": 9,
   "id": "aba3f1cd-5aa0-4df1-b57e-11fc858fc13c",
   "metadata": {
    "tags": []
   },
   "outputs": [
    {
     "name": "stderr",
     "output_type": "stream",
     "text": [
      "Loss: 0.03741: 100%|████████████████████████████████████████████████████████| 201/201 [02:08<00:00,  1.56it/s]\n"
     ]
    }
   ],
   "source": [
    "from tqdm import tqdm, trange\n",
    "from collections import defaultdict\n",
    "\n",
    "EPOCHS = 201\n",
    "history = []\n",
    "SAMPLE_EVERY = 100\n",
    "\n",
    "with trange(EPOCHS) as pbar:\n",
    "    for epoch in pbar:\n",
    "        grid = np.zeros((HYPERPARAMS['map_height'], HYPERPARAMS['map_width'], HYPERPARAMS['cell_vars']))\n",
    "        grid[HYPERPARAMS['map_height']//2][HYPERPARAMS['map_width']//2] += 1 # Alive cell in the middle of the image\n",
    "        grid = tf.convert_to_tensor(grid, dtype=tf.float32)\n",
    "\n",
    "        if epoch % SAMPLE_EVERY == 0: history.append([grid[:, :, :3].numpy()])\n",
    "        n_backprop_steps = random.randint(HYPERPARAMS['min-backprop-steps'],HYPERPARAMS['max-backprop-steps'])\n",
    "        n_steps = random.randint(HYPERPARAMS['min-steps'], HYPERPARAMS['max-steps'])\n",
    "        for ep in range(max(0, n_steps - n_backprop_steps)):\n",
    "            grid += update_grid(grid)\n",
    "            grid = tf.clip_by_value(grid, 0, 1)\n",
    "            if epoch % SAMPLE_EVERY == 0: history[-1].append(grid[:, :, :4].numpy())\n",
    "        with tf.GradientTape() as grad:\n",
    "            grad.watch(grid); grad.watch(update_model.trainable_variables)\n",
    "            for ep in range(n_backprop_steps):\n",
    "                update_batch = update_grid(grid)\n",
    "                grid = grid + update_batch\n",
    "                grid = tf.clip_by_value(grid, 0, 1)\n",
    "                if epoch % SAMPLE_EVERY == 0: history[-1].append(grid[:, :, :4].numpy())\n",
    "\n",
    "            # dGdP = [tf.reduce_sum(tf.stack(grads_per_step[key]), axis=1) for key in grads_per_step]\n",
    "            grad.watch(cropped)\n",
    "            L = loss(grid[:, :, :4], cropped)\n",
    "        dLdP = grad.gradient(L, update_model.trainable_variables)\n",
    "        \"\"\"\n",
    "            with tf.GradientTape() as grad:\n",
    "                grad.watch(grid); grad.watch(cropped)\n",
    "                L = loss(grid[:,:,:3], cropped)\n",
    "            dLdG = grad.gradient(L, grid)\n",
    "        \"\"\"\n",
    "        optimizer.apply_gradients(zip(dLdP, update_model.trainable_weights))\n",
    "        pbar.set_description(\"Loss: {0:.5f}\".format(L.numpy()), refresh = True)"
   ]
  },
  {
   "cell_type": "code",
   "execution_count": 10,
   "id": "36447fa8-8935-4152-ab91-4bc2dafbaa3b",
   "metadata": {
    "tags": []
   },
   "outputs": [
    {
     "data": {
      "text/html": [
       "<video src=\"dynamic_images.mp4\" controls  >\n",
       "      Your browser does not support the <code>video</code> element.\n",
       "    </video>"
      ],
      "text/plain": [
       "<IPython.core.display.Video object>"
      ]
     },
     "execution_count": 10,
     "metadata": {},
     "output_type": "execute_result"
    },
    {
     "data": {
      "image/png": "[encoded data removed]",
      "text/plain": [
       "<Figure size 640x480 with 1 Axes>"
      ]
     },
     "metadata": {},
     "output_type": "display_data"
    }
   ],
   "source": [
    "import matplotlib.pyplot as plt\n",
    "import matplotlib.animation as animation\n",
    "from IPython.display import Video\n",
    "\n",
    "def generate_animation(episode):\n",
    "    fig = plt.figure()\n",
    "\n",
    "    # ims is a list of lists, each row is a list of artists to draw in the\n",
    "    # current frame; here we are just animating one artist, the image, in\n",
    "    # each frame\n",
    "    ims = []\n",
    "    for slice_ in episode:\n",
    "        im = plt.imshow(tf.clip_by_value(slice_, 0, 1), animated=True, vmin=0, vmax=1)\n",
    "        ims.append([im])\n",
    "\n",
    "    ani = animation.ArtistAnimation(fig, ims, interval=50, blit=True,\n",
    "                                    repeat_delay=1000)\n",
    "    ani.save('dynamic_images.mp4')\n",
    "generate_animation(history[-1])\n",
    "Video(filename=\"dynamic_images.mp4\")"
   ]
  },
  {
   "cell_type": "code",
   "execution_count": 11,
   "id": "43554e36-4c28-44a5-aa4a-e7972f547d3e",
   "metadata": {
    "tags": []
   },
   "outputs": [
    {
     "name": "stdout",
     "output_type": "stream",
     "text": [
      "WARNING:tensorflow:Compiled the loaded model, but the compiled metrics have yet to be built. `model.compile_metrics` will be empty until you train or evaluate the model.\n",
      "INFO:tensorflow:Assets written to: ./weights/phase1_run3/assets\n"
     ]
    },
    {
     "name": "stderr",
     "output_type": "stream",
     "text": [
      "2023-05-02 04:59:37.201828: W tensorflow/python/util/util.cc:368] Sets are not currently considered sequences, but this may change in the future, so consider avoiding using them.\n"
     ]
    }
   ],
   "source": [
    "update_model.save('./weights/phase1_run3')"
   ]
  },
  {
   "cell_type": "markdown",
   "id": "d3bb295a-cd6a-4518-9bba-f83236a72b87",
   "metadata": {},
   "source": [
    "#### Phase 2:"
   ]
  },
  {
   "cell_type": "code",
   "execution_count": 14,
   "id": "d563d718-750a-4921-b141-88590968e4d8",
   "metadata": {
    "tags": []
   },
   "outputs": [],
   "source": [
    "config = optimizer.get_config()\n",
    "config[\"learning_rate\"] = 2e-5\n",
    "config[\"decay\"] = 0.998\n",
    "optimizer = optimizer.from_config(config, custom_objects=None)"
   ]
  },
  {
   "cell_type": "code",
   "execution_count": 15,
   "id": "31a940e6-ea70-4ced-9045-5d9a02eab47f",
   "metadata": {
    "tags": []
   },
   "outputs": [
    {
     "name": "stderr",
     "output_type": "stream",
     "text": [
      "Loss: 0.06863:  44%|████████████████████████                               | 439/1001 [04:33<05:50,  1.60it/s]\n"
     ]
    },
    {
     "ename": "KeyboardInterrupt",
     "evalue": "",
     "output_type": "error",
     "traceback": [
      "\u001b[0;31m---------------------------------------------------------------------------\u001b[0m",
      "\u001b[0;31mKeyboardInterrupt\u001b[0m                         Traceback (most recent call last)",
      "Cell \u001b[0;32mIn[15], line 22\u001b[0m\n\u001b[1;32m     20\u001b[0m grad\u001b[38;5;241m.\u001b[39mwatch(grid); grad\u001b[38;5;241m.\u001b[39mwatch(update_model\u001b[38;5;241m.\u001b[39mtrainable_variables)\n\u001b[1;32m     21\u001b[0m \u001b[38;5;28;01mfor\u001b[39;00m ep \u001b[38;5;129;01min\u001b[39;00m \u001b[38;5;28mrange\u001b[39m(n_backprop_steps):\n\u001b[0;32m---> 22\u001b[0m     update_batch \u001b[38;5;241m=\u001b[39m \u001b[43mupdate_grid\u001b[49m\u001b[43m(\u001b[49m\u001b[43mgrid\u001b[49m\u001b[43m)\u001b[49m\n\u001b[1;32m     23\u001b[0m     grid \u001b[38;5;241m=\u001b[39m grid \u001b[38;5;241m+\u001b[39m update_batch\n\u001b[1;32m     24\u001b[0m     \u001b[38;5;28;01mif\u001b[39;00m epoch \u001b[38;5;241m%\u001b[39m SAMPLE_EVERY \u001b[38;5;241m==\u001b[39m \u001b[38;5;241m0\u001b[39m: history[\u001b[38;5;241m-\u001b[39m\u001b[38;5;241m1\u001b[39m]\u001b[38;5;241m.\u001b[39mappend(grid[:, :, :\u001b[38;5;241m3\u001b[39m]\u001b[38;5;241m.\u001b[39mnumpy())\n",
      "Cell \u001b[0;32mIn[3], line 32\u001b[0m, in \u001b[0;36mupdate_grid\u001b[0;34m(grid, update_p)\u001b[0m\n\u001b[1;32m     13\u001b[0m input_batch \u001b[38;5;241m=\u001b[39m tf\u001b[38;5;241m.\u001b[39mreshape(input_batch, (HYPERPARAMS[\u001b[38;5;124m'\u001b[39m\u001b[38;5;124mmap_height\u001b[39m\u001b[38;5;124m'\u001b[39m]\u001b[38;5;241m*\u001b[39mHYPERPARAMS[\u001b[38;5;124m'\u001b[39m\u001b[38;5;124mmap_width\u001b[39m\u001b[38;5;124m'\u001b[39m], \u001b[38;5;241m*\u001b[39mHYPERPARAMS[\u001b[38;5;124m'\u001b[39m\u001b[38;5;124mkernel_size\u001b[39m\u001b[38;5;124m'\u001b[39m], HYPERPARAMS[\u001b[38;5;124m'\u001b[39m\u001b[38;5;124mcell_vars\u001b[39m\u001b[38;5;124m'\u001b[39m]))\n\u001b[1;32m     14\u001b[0m \u001b[38;5;250m\u001b[39m\u001b[38;5;124;03m\"\"\"\u001b[39;00m\n\u001b[1;32m     15\u001b[0m \u001b[38;5;124;03minput_batch = []; alive_mask = []\u001b[39;00m\n\u001b[1;32m     16\u001b[0m \u001b[38;5;124;03mfor i in range(256):\u001b[39;00m\n\u001b[0;32m   (...)\u001b[0m\n\u001b[1;32m     30\u001b[0m \u001b[38;5;124;03minput_batch = tf.convert_to_tensor(input_batch.reshape((256*256, 3, 3, 32)), dtype=tf.float32)\u001b[39;00m\n\u001b[1;32m     31\u001b[0m \u001b[38;5;124;03m\"\"\"\u001b[39;00m\n\u001b[0;32m---> 32\u001b[0m alive_mask \u001b[38;5;241m=\u001b[39m \u001b[43mtf\u001b[49m\u001b[38;5;241;43m.\u001b[39;49m\u001b[43mmath\u001b[49m\u001b[38;5;241;43m.\u001b[39;49m\u001b[43mreduce_max\u001b[49m\u001b[43m(\u001b[49m\u001b[43mtf\u001b[49m\u001b[38;5;241;43m.\u001b[39;49m\u001b[43mreshape\u001b[49m\u001b[43m(\u001b[49m\u001b[43minput_batch\u001b[49m\u001b[43m,\u001b[49m\u001b[43m \u001b[49m\u001b[43m(\u001b[49m\u001b[43mHYPERPARAMS\u001b[49m\u001b[43m[\u001b[49m\u001b[38;5;124;43m'\u001b[39;49m\u001b[38;5;124;43mmap_height\u001b[39;49m\u001b[38;5;124;43m'\u001b[39;49m\u001b[43m]\u001b[49m\u001b[43m,\u001b[49m\u001b[43mHYPERPARAMS\u001b[49m\u001b[43m[\u001b[49m\u001b[38;5;124;43m'\u001b[39;49m\u001b[38;5;124;43mmap_width\u001b[39;49m\u001b[38;5;124;43m'\u001b[39;49m\u001b[43m]\u001b[49m\u001b[43m,\u001b[49m\u001b[43mHYPERPARAMS\u001b[49m\u001b[43m[\u001b[49m\u001b[38;5;124;43m'\u001b[39;49m\u001b[38;5;124;43mkernel_size\u001b[39;49m\u001b[38;5;124;43m'\u001b[39;49m\u001b[43m]\u001b[49m\u001b[43m[\u001b[49m\u001b[38;5;241;43m0\u001b[39;49m\u001b[43m]\u001b[49m\u001b[43m \u001b[49m\u001b[38;5;241;43m*\u001b[39;49m\u001b[43m \u001b[49m\u001b[43mHYPERPARAMS\u001b[49m\u001b[43m[\u001b[49m\u001b[38;5;124;43m'\u001b[39;49m\u001b[38;5;124;43mkernel_size\u001b[39;49m\u001b[38;5;124;43m'\u001b[39;49m\u001b[43m]\u001b[49m\u001b[43m[\u001b[49m\u001b[38;5;241;43m1\u001b[39;49m\u001b[43m]\u001b[49m\u001b[43m,\u001b[49m\u001b[43mHYPERPARAMS\u001b[49m\u001b[43m[\u001b[49m\u001b[38;5;124;43m'\u001b[39;49m\u001b[38;5;124;43mcell_vars\u001b[39;49m\u001b[38;5;124;43m'\u001b[39;49m\u001b[43m]\u001b[49m\u001b[43m)\u001b[49m\u001b[43m)\u001b[49m\u001b[43m[\u001b[49m\u001b[43m:\u001b[49m\u001b[43m,\u001b[49m\u001b[43m:\u001b[49m\u001b[43m,\u001b[49m\u001b[43m:\u001b[49m\u001b[43m,\u001b[49m\u001b[38;5;241;43m3\u001b[39;49m\u001b[43m]\u001b[49m\u001b[43m,\u001b[49m\u001b[43m \u001b[49m\u001b[43maxis\u001b[49m\u001b[38;5;241;43m=\u001b[39;49m\u001b[38;5;241;43m2\u001b[39;49m\u001b[43m)\u001b[49m \u001b[38;5;241m>\u001b[39m HYPERPARAMS[\u001b[38;5;124m'\u001b[39m\u001b[38;5;124malive_threshold\u001b[39m\u001b[38;5;124m'\u001b[39m]\n\u001b[1;32m     33\u001b[0m alive_mask \u001b[38;5;241m=\u001b[39m tf\u001b[38;5;241m.\u001b[39mcast(tf\u001b[38;5;241m.\u001b[39mreshape(alive_mask, (HYPERPARAMS[\u001b[38;5;124m'\u001b[39m\u001b[38;5;124mmap_height\u001b[39m\u001b[38;5;124m'\u001b[39m], HYPERPARAMS[\u001b[38;5;124m'\u001b[39m\u001b[38;5;124mmap_width\u001b[39m\u001b[38;5;124m'\u001b[39m], \u001b[38;5;241m1\u001b[39m)), tf\u001b[38;5;241m.\u001b[39mfloat32)\n\u001b[1;32m     34\u001b[0m mask \u001b[38;5;241m=\u001b[39m tf\u001b[38;5;241m.\u001b[39mrandom\u001b[38;5;241m.\u001b[39mcategorical(tf\u001b[38;5;241m.\u001b[39mmath\u001b[38;5;241m.\u001b[39mlog([[\u001b[38;5;241m0.5\u001b[39m, \u001b[38;5;241m0.5\u001b[39m]]), HYPERPARAMS[\u001b[38;5;124m'\u001b[39m\u001b[38;5;124mmap_height\u001b[39m\u001b[38;5;124m'\u001b[39m]\u001b[38;5;241m*\u001b[39mHYPERPARAMS[\u001b[38;5;124m'\u001b[39m\u001b[38;5;124mmap_width\u001b[39m\u001b[38;5;124m'\u001b[39m])\n",
      "File \u001b[0;32m/opt/conda/lib/python3.10/site-packages/tensorflow/python/util/traceback_utils.py:150\u001b[0m, in \u001b[0;36mfilter_traceback.<locals>.error_handler\u001b[0;34m(*args, **kwargs)\u001b[0m\n\u001b[1;32m    148\u001b[0m filtered_tb \u001b[38;5;241m=\u001b[39m \u001b[38;5;28;01mNone\u001b[39;00m\n\u001b[1;32m    149\u001b[0m \u001b[38;5;28;01mtry\u001b[39;00m:\n\u001b[0;32m--> 150\u001b[0m   \u001b[38;5;28;01mreturn\u001b[39;00m \u001b[43mfn\u001b[49m\u001b[43m(\u001b[49m\u001b[38;5;241;43m*\u001b[39;49m\u001b[43margs\u001b[49m\u001b[43m,\u001b[49m\u001b[43m \u001b[49m\u001b[38;5;241;43m*\u001b[39;49m\u001b[38;5;241;43m*\u001b[39;49m\u001b[43mkwargs\u001b[49m\u001b[43m)\u001b[49m\n\u001b[1;32m    151\u001b[0m \u001b[38;5;28;01mexcept\u001b[39;00m \u001b[38;5;167;01mException\u001b[39;00m \u001b[38;5;28;01mas\u001b[39;00m e:\n\u001b[1;32m    152\u001b[0m   filtered_tb \u001b[38;5;241m=\u001b[39m _process_traceback_frames(e\u001b[38;5;241m.\u001b[39m__traceback__)\n",
      "File \u001b[0;32m/opt/conda/lib/python3.10/site-packages/tensorflow/python/util/dispatch.py:1082\u001b[0m, in \u001b[0;36madd_dispatch_support.<locals>.decorator.<locals>.op_dispatch_handler\u001b[0;34m(*args, **kwargs)\u001b[0m\n\u001b[1;32m   1080\u001b[0m \u001b[38;5;66;03m# Fallback dispatch system (dispatch v1):\u001b[39;00m\n\u001b[1;32m   1081\u001b[0m \u001b[38;5;28;01mtry\u001b[39;00m:\n\u001b[0;32m-> 1082\u001b[0m   \u001b[38;5;28;01mreturn\u001b[39;00m \u001b[43mdispatch_target\u001b[49m\u001b[43m(\u001b[49m\u001b[38;5;241;43m*\u001b[39;49m\u001b[43margs\u001b[49m\u001b[43m,\u001b[49m\u001b[43m \u001b[49m\u001b[38;5;241;43m*\u001b[39;49m\u001b[38;5;241;43m*\u001b[39;49m\u001b[43mkwargs\u001b[49m\u001b[43m)\u001b[49m\n\u001b[1;32m   1083\u001b[0m \u001b[38;5;28;01mexcept\u001b[39;00m (\u001b[38;5;167;01mTypeError\u001b[39;00m, \u001b[38;5;167;01mValueError\u001b[39;00m):\n\u001b[1;32m   1084\u001b[0m   \u001b[38;5;66;03m# Note: convert_to_eager_tensor currently raises a ValueError, not a\u001b[39;00m\n\u001b[1;32m   1085\u001b[0m   \u001b[38;5;66;03m# TypeError, when given unexpected types.  So we need to catch both.\u001b[39;00m\n\u001b[1;32m   1086\u001b[0m   result \u001b[38;5;241m=\u001b[39m dispatch(op_dispatch_handler, args, kwargs)\n",
      "File \u001b[0;32m/opt/conda/lib/python3.10/site-packages/tensorflow/python/ops/math_ops.py:3104\u001b[0m, in \u001b[0;36mreduce_max\u001b[0;34m(input_tensor, axis, keepdims, name)\u001b[0m\n\u001b[1;32m   3058\u001b[0m \u001b[38;5;129m@tf_export\u001b[39m(\u001b[38;5;124m\"\u001b[39m\u001b[38;5;124mmath.reduce_max\u001b[39m\u001b[38;5;124m\"\u001b[39m, \u001b[38;5;124m\"\u001b[39m\u001b[38;5;124mreduce_max\u001b[39m\u001b[38;5;124m\"\u001b[39m, v1\u001b[38;5;241m=\u001b[39m[])\n\u001b[1;32m   3059\u001b[0m \u001b[38;5;129m@dispatch\u001b[39m\u001b[38;5;241m.\u001b[39madd_dispatch_support\n\u001b[1;32m   3060\u001b[0m \u001b[38;5;28;01mdef\u001b[39;00m \u001b[38;5;21mreduce_max\u001b[39m(input_tensor, axis\u001b[38;5;241m=\u001b[39m\u001b[38;5;28;01mNone\u001b[39;00m, keepdims\u001b[38;5;241m=\u001b[39m\u001b[38;5;28;01mFalse\u001b[39;00m, name\u001b[38;5;241m=\u001b[39m\u001b[38;5;28;01mNone\u001b[39;00m):\n\u001b[1;32m   3061\u001b[0m \u001b[38;5;250m  \u001b[39m\u001b[38;5;124;03m\"\"\"Computes `tf.math.maximum` of elements across dimensions of a tensor.\u001b[39;00m\n\u001b[1;32m   3062\u001b[0m \n\u001b[1;32m   3063\u001b[0m \u001b[38;5;124;03m  This is the reduction operation for the elementwise `tf.math.maximum` op.\u001b[39;00m\n\u001b[0;32m   (...)\u001b[0m\n\u001b[1;32m   3102\u001b[0m \u001b[38;5;124;03m    The reduced tensor.\u001b[39;00m\n\u001b[1;32m   3103\u001b[0m \u001b[38;5;124;03m  \"\"\"\u001b[39;00m\n\u001b[0;32m-> 3104\u001b[0m   \u001b[38;5;28;01mreturn\u001b[39;00m \u001b[43mreduce_max_with_dims\u001b[49m\u001b[43m(\u001b[49m\u001b[43minput_tensor\u001b[49m\u001b[43m,\u001b[49m\u001b[43m \u001b[49m\u001b[43maxis\u001b[49m\u001b[43m,\u001b[49m\u001b[43m \u001b[49m\u001b[43mkeepdims\u001b[49m\u001b[43m,\u001b[49m\u001b[43m \u001b[49m\u001b[43mname\u001b[49m\u001b[43m,\u001b[49m\n\u001b[1;32m   3105\u001b[0m \u001b[43m                              \u001b[49m\u001b[43m_ReductionDims\u001b[49m\u001b[43m(\u001b[49m\u001b[43minput_tensor\u001b[49m\u001b[43m,\u001b[49m\u001b[43m \u001b[49m\u001b[43maxis\u001b[49m\u001b[43m)\u001b[49m\u001b[43m)\u001b[49m\n",
      "File \u001b[0;32m/opt/conda/lib/python3.10/site-packages/tensorflow/python/ops/math_ops.py:3116\u001b[0m, in \u001b[0;36mreduce_max_with_dims\u001b[0;34m(input_tensor, axis, keepdims, name, dims)\u001b[0m\n\u001b[1;32m   3108\u001b[0m \u001b[38;5;28;01mdef\u001b[39;00m \u001b[38;5;21mreduce_max_with_dims\u001b[39m(input_tensor,\n\u001b[1;32m   3109\u001b[0m                          axis\u001b[38;5;241m=\u001b[39m\u001b[38;5;28;01mNone\u001b[39;00m,\n\u001b[1;32m   3110\u001b[0m                          keepdims\u001b[38;5;241m=\u001b[39m\u001b[38;5;28;01mFalse\u001b[39;00m,\n\u001b[1;32m   3111\u001b[0m                          name\u001b[38;5;241m=\u001b[39m\u001b[38;5;28;01mNone\u001b[39;00m,\n\u001b[1;32m   3112\u001b[0m                          dims\u001b[38;5;241m=\u001b[39m\u001b[38;5;28;01mNone\u001b[39;00m):\n\u001b[1;32m   3113\u001b[0m   keepdims \u001b[38;5;241m=\u001b[39m \u001b[38;5;28;01mFalse\u001b[39;00m \u001b[38;5;28;01mif\u001b[39;00m keepdims \u001b[38;5;129;01mis\u001b[39;00m \u001b[38;5;28;01mNone\u001b[39;00m \u001b[38;5;28;01melse\u001b[39;00m \u001b[38;5;28mbool\u001b[39m(keepdims)\n\u001b[1;32m   3114\u001b[0m   \u001b[38;5;28;01mreturn\u001b[39;00m _may_reduce_to_scalar(\n\u001b[1;32m   3115\u001b[0m       keepdims, axis,\n\u001b[0;32m-> 3116\u001b[0m       \u001b[43mgen_math_ops\u001b[49m\u001b[38;5;241;43m.\u001b[39;49m\u001b[43m_max\u001b[49m\u001b[43m(\u001b[49m\u001b[43minput_tensor\u001b[49m\u001b[43m,\u001b[49m\u001b[43m \u001b[49m\u001b[43mdims\u001b[49m\u001b[43m,\u001b[49m\u001b[43m \u001b[49m\u001b[43mkeepdims\u001b[49m\u001b[43m,\u001b[49m\u001b[43m \u001b[49m\u001b[43mname\u001b[49m\u001b[38;5;241;43m=\u001b[39;49m\u001b[43mname\u001b[49m\u001b[43m)\u001b[49m)\n",
      "File \u001b[0;32m/opt/conda/lib/python3.10/site-packages/tensorflow/python/ops/gen_math_ops.py:6096\u001b[0m, in \u001b[0;36m_max\u001b[0;34m(input, axis, keep_dims, name)\u001b[0m\n\u001b[1;32m   6094\u001b[0m \u001b[38;5;28;01mif\u001b[39;00m tld\u001b[38;5;241m.\u001b[39mis_eager:\n\u001b[1;32m   6095\u001b[0m   \u001b[38;5;28;01mtry\u001b[39;00m:\n\u001b[0;32m-> 6096\u001b[0m     _result \u001b[38;5;241m=\u001b[39m \u001b[43mpywrap_tfe\u001b[49m\u001b[38;5;241;43m.\u001b[39;49m\u001b[43mTFE_Py_FastPathExecute\u001b[49m\u001b[43m(\u001b[49m\n\u001b[1;32m   6097\u001b[0m \u001b[43m      \u001b[49m\u001b[43m_ctx\u001b[49m\u001b[43m,\u001b[49m\u001b[43m \u001b[49m\u001b[38;5;124;43m\"\u001b[39;49m\u001b[38;5;124;43mMax\u001b[39;49m\u001b[38;5;124;43m\"\u001b[39;49m\u001b[43m,\u001b[49m\u001b[43m \u001b[49m\u001b[43mname\u001b[49m\u001b[43m,\u001b[49m\u001b[43m \u001b[49m\u001b[38;5;28;43minput\u001b[39;49m\u001b[43m,\u001b[49m\u001b[43m \u001b[49m\u001b[43maxis\u001b[49m\u001b[43m,\u001b[49m\u001b[43m \u001b[49m\u001b[38;5;124;43m\"\u001b[39;49m\u001b[38;5;124;43mkeep_dims\u001b[39;49m\u001b[38;5;124;43m\"\u001b[39;49m\u001b[43m,\u001b[49m\u001b[43m \u001b[49m\u001b[43mkeep_dims\u001b[49m\u001b[43m)\u001b[49m\n\u001b[1;32m   6098\u001b[0m     \u001b[38;5;28;01mreturn\u001b[39;00m _result\n\u001b[1;32m   6099\u001b[0m   \u001b[38;5;28;01mexcept\u001b[39;00m _core\u001b[38;5;241m.\u001b[39m_NotOkStatusException \u001b[38;5;28;01mas\u001b[39;00m e:\n",
      "\u001b[0;31mKeyboardInterrupt\u001b[0m: "
     ]
    }
   ],
   "source": [
    "from tqdm import tqdm, trange\n",
    "from collections import defaultdict\n",
    "\n",
    "EPOCHS = 1001\n",
    "SAMPLE_EVERY = 100\n",
    "\n",
    "with trange(EPOCHS) as pbar:\n",
    "    for epoch in pbar:\n",
    "        grid = np.zeros((HYPERPARAMS['map_height'], HYPERPARAMS['map_width'], HYPERPARAMS['cell_vars']))\n",
    "        grid[HYPERPARAMS['map_height']//2][HYPERPARAMS['map_width']//2] += 1 # Alive cell in the middle of the image\n",
    "        grid = tf.convert_to_tensor(grid, dtype=tf.float32)\n",
    "\n",
    "        if epoch % SAMPLE_EVERY == 0: history.append([grid[:, :, :3].numpy()])\n",
    "        n_backprop_steps = random.randint(HYPERPARAMS['min-backprop-steps'],HYPERPARAMS['max-backprop-steps'])\n",
    "        n_steps = random.randint(HYPERPARAMS['min-steps'], HYPERPARAMS['max-steps'])\n",
    "        for ep in range(max(0, n_steps - n_backprop_steps)):\n",
    "            grid += update_grid(grid)\n",
    "            grid = tf.clip_by_value(grid, 0, 1)\n",
    "            if epoch % SAMPLE_EVERY == 0: history[-1].append(grid[:, :, :4].numpy())\n",
    "        with tf.GradientTape() as grad:\n",
    "            grad.watch(grid); grad.watch(update_model.trainable_variables)\n",
    "            for ep in range(n_backprop_steps):\n",
    "                update_batch = update_grid(grid)\n",
    "                grid = grid + update_batch\n",
    "                grid = tf.clip_by_value(grid, 0, 1)\n",
    "                if epoch % SAMPLE_EVERY == 0: history[-1].append(grid[:, :, :4].numpy())\n",
    "\n",
    "            # dGdP = [tf.reduce_sum(tf.stack(grads_per_step[key]), axis=1) for key in grads_per_step]\n",
    "            grad.watch(cropped)\n",
    "            L = loss(grid[:, :, :4], cropped)\n",
    "        dLdP = grad.gradient(L, update_model.trainable_variables)\n",
    "        \"\"\"\n",
    "            with tf.GradientTape() as grad:\n",
    "                grad.watch(grid); grad.watch(cropped)\n",
    "                L = loss(grid[:,:,:3], cropped)\n",
    "            dLdG = grad.gradient(L, grid)\n",
    "        \"\"\"\n",
    "        optimizer.apply_gradients(zip(dLdP, update_model.trainable_weights))\n",
    "        pbar.set_description(\"Loss: {0:.5f}\".format(L.numpy()), refresh = True)"
   ]
  },
  {
   "cell_type": "code",
   "execution_count": null,
   "id": "913c5871-1816-4f14-9011-a042291c9acb",
   "metadata": {
    "tags": []
   },
   "outputs": [],
   "source": [
    "update_model.save('./weights/phase2_run3')"
   ]
  },
  {
   "cell_type": "code",
   "execution_count": 16,
   "id": "83419471-8360-4afc-9517-d0a7927fd8f8",
   "metadata": {
    "tags": []
   },
   "outputs": [
    {
     "data": {
      "text/html": [
       "<video src=\"dynamic_images.mp4\" controls  >\n",
       "      Your browser does not support the <code>video</code> element.\n",
       "    </video>"
      ],
      "text/plain": [
       "<IPython.core.display.Video object>"
      ]
     },
     "execution_count": 16,
     "metadata": {},
     "output_type": "execute_result"
    },
    {
     "data": {
      "image/png": "[encoded data removed]",
      "text/plain": [
       "<Figure size 640x480 with 1 Axes>"
      ]
     },
     "metadata": {},
     "output_type": "display_data"
    }
   ],
   "source": [
    "generate_animation(history[-1])\n",
    "Video(filename=\"dynamic_images.mp4\")"
   ]
  },
  {
   "cell_type": "markdown",
   "id": "2394365f-7670-4a52-b5e4-f6494823b317",
   "metadata": {},
   "source": [
    "#### Phase 3"
   ]
  },
  {
   "cell_type": "code",
   "execution_count": 17,
   "id": "78f0f00c-2ea1-4fea-98c0-719ea973c799",
   "metadata": {
    "tags": []
   },
   "outputs": [],
   "source": [
    "new_params  = {'min-steps': 64,\n",
    "               'max-steps': 400}\n",
    "HYPERPARAMS.update(new_params)"
   ]
  },
  {
   "cell_type": "code",
   "execution_count": 18,
   "id": "97fc8d81-baa3-4bb4-867b-b1b75418ae27",
   "metadata": {
    "tags": []
   },
   "outputs": [],
   "source": [
    "config = optimizer.get_config()\n",
    "config[\"learning_rate\"] = 1e-3\n",
    "config[\"decay\"] = 0.9985\n",
    "optimizer = optimizer.from_config(config, custom_objects=None)"
   ]
  },
  {
   "cell_type": "code",
   "execution_count": 20,
   "id": "b563e2d2-d79a-4d40-b063-9c467f516338",
   "metadata": {
    "tags": []
   },
   "outputs": [
    {
     "name": "stderr",
     "output_type": "stream",
     "text": [
      "Loss: 0.04416:  57%|██████████████████████████████▌                       | 1700/3001 [28:50<20:52,  1.04it/s]IOPub message rate exceeded.\n",
      "The Jupyter server will temporarily stop sending output\n",
      "to the client in order to avoid crashing it.\n",
      "To change this limit, set the config variable\n",
      "`--ServerApp.iopub_msg_rate_limit`.\n",
      "\n",
      "Current values:\n",
      "ServerApp.iopub_msg_rate_limit=1000.0 (msgs/sec)\n",
      "ServerApp.rate_limit_window=3.0 (secs)\n",
      "\n"
     ]
    }
   ],
   "source": [
    "from tqdm import tqdm, trange\n",
    "from collections import defaultdict\n",
    "\n",
    "EPOCHS = 3001\n",
    "SAMPLE_EVERY = 100\n",
    "\n",
    "with trange(EPOCHS) as pbar:\n",
    "    for epoch in pbar:\n",
    "        grid = np.zeros((HYPERPARAMS['map_height'], HYPERPARAMS['map_width'], HYPERPARAMS['cell_vars']))\n",
    "        grid[HYPERPARAMS['map_height']//2][HYPERPARAMS['map_width']//2] += 1 # Alive cell in the middle of the image\n",
    "        grid = tf.convert_to_tensor(grid, dtype=tf.float32)\n",
    "\n",
    "        if epoch % SAMPLE_EVERY == 0: history.append([grid[:, :, :3].numpy()])\n",
    "        n_backprop_steps = random.randint(HYPERPARAMS['min-backprop-steps'],HYPERPARAMS['max-backprop-steps'])\n",
    "        n_steps = random.randint(HYPERPARAMS['min-steps'], HYPERPARAMS['max-steps'])\n",
    "        for ep in range(max(0, n_steps - n_backprop_steps)):\n",
    "            grid += update_grid(grid)\n",
    "            grid = tf.clip_by_value(grid, 0, 1)\n",
    "            if epoch % SAMPLE_EVERY == 0: history[-1].append(grid[:, :, :4].numpy())\n",
    "        with tf.GradientTape() as grad:\n",
    "            grad.watch(grid); grad.watch(update_model.trainable_variables)\n",
    "            for ep in range(n_backprop_steps):\n",
    "                update_batch = update_grid(grid)\n",
    "                grid = grid + update_batch\n",
    "                grid = tf.clip_by_value(grid, 0, 1)\n",
    "                if epoch % SAMPLE_EVERY == 0: history[-1].append(grid[:, :, :4].numpy())\n",
    "\n",
    "            # dGdP = [tf.reduce_sum(tf.stack(grads_per_step[key]), axis=1) for key in grads_per_step]\n",
    "            grad.watch(cropped)\n",
    "            L = loss(grid[:, :, :4], cropped)\n",
    "        dLdP = grad.gradient(L, update_model.trainable_variables)\n",
    "        \"\"\"\n",
    "            with tf.GradientTape() as grad:\n",
    "                grad.watch(grid); grad.watch(cropped)\n",
    "                L = loss(grid[:,:,:3], cropped)\n",
    "            dLdG = grad.gradient(L, grid)\n",
    "        \"\"\"\n",
    "        optimizer.apply_gradients(zip(dLdP, update_model.trainable_weights))\n",
    "        pbar.set_description(\"Loss: {0:.5f}\".format(L.numpy()), refresh = True)"
   ]
  },
  {
   "cell_type": "code",
   "execution_count": 21,
   "id": "2a702cbf-b849-48b3-883f-738db895df4c",
   "metadata": {
    "tags": []
   },
   "outputs": [
    {
     "name": "stderr",
     "output_type": "stream",
     "text": [
      "Loss: 0.37029:  50%|██████████████████████████▉                           | 1499/3001 [25:22<26:27,  1.06s/it]IOPub message rate exceeded.\n",
      "The Jupyter server will temporarily stop sending output\n",
      "to the client in order to avoid crashing it.\n",
      "To change this limit, set the config variable\n",
      "`--ServerApp.iopub_msg_rate_limit`.\n",
      "\n",
      "Current values:\n",
      "ServerApp.iopub_msg_rate_limit=1000.0 (msgs/sec)\n",
      "ServerApp.rate_limit_window=3.0 (secs)\n",
      "\n"
     ]
    }
   ],
   "source": [
    "from tqdm import tqdm, trange\n",
    "from collections import defaultdict\n",
    "\n",
    "EPOCHS = 3001\n",
    "SAMPLE_EVERY = 100\n",
    "\n",
    "with trange(EPOCHS) as pbar:\n",
    "    for epoch in pbar:\n",
    "        grid = np.zeros((HYPERPARAMS['map_height'], HYPERPARAMS['map_width'], HYPERPARAMS['cell_vars']))\n",
    "        grid[HYPERPARAMS['map_height']//2][HYPERPARAMS['map_width']//2] += 1 # Alive cell in the middle of the image\n",
    "        grid = tf.convert_to_tensor(grid, dtype=tf.float32)\n",
    "\n",
    "        if epoch % SAMPLE_EVERY == 0: history.append([grid[:, :, :3].numpy()])\n",
    "        n_backprop_steps = random.randint(HYPERPARAMS['min-backprop-steps'],HYPERPARAMS['max-backprop-steps'])\n",
    "        n_steps = random.randint(HYPERPARAMS['min-steps'], HYPERPARAMS['max-steps'])\n",
    "        for ep in range(max(0, n_steps - n_backprop_steps)):\n",
    "            grid += update_grid(grid)\n",
    "            grid = tf.clip_by_value(grid, 0, 1)\n",
    "            if epoch % SAMPLE_EVERY == 0: history[-1].append(grid[:, :, :4].numpy())\n",
    "        with tf.GradientTape() as grad:\n",
    "            grad.watch(grid); grad.watch(update_model.trainable_variables)\n",
    "            for ep in range(n_backprop_steps):\n",
    "                update_batch = update_grid(grid)\n",
    "                grid = grid + update_batch\n",
    "                grid = tf.clip_by_value(grid, 0, 1)\n",
    "                if epoch % SAMPLE_EVERY == 0: history[-1].append(grid[:, :, :4].numpy())\n",
    "\n",
    "            # dGdP = [tf.reduce_sum(tf.stack(grads_per_step[key]), axis=1) for key in grads_per_step]\n",
    "            grad.watch(cropped)\n",
    "            L = loss(grid[:, :, :4], cropped)\n",
    "        dLdP = grad.gradient(L, update_model.trainable_variables)\n",
    "        \"\"\"\n",
    "            with tf.GradientTape() as grad:\n",
    "                grad.watch(grid); grad.watch(cropped)\n",
    "                L = loss(grid[:,:,:3], cropped)\n",
    "            dLdG = grad.gradient(L, grid)\n",
    "        \"\"\"\n",
    "        optimizer.apply_gradients(zip(dLdP, update_model.trainable_weights))\n",
    "        pbar.set_description(\"Loss: {0:.5f}\".format(L.numpy()), refresh = True)"
   ]
  },
  {
   "cell_type": "code",
   "execution_count": null,
   "id": "5029e98d-f313-4eb9-bbd1-e13663a72720",
   "metadata": {
    "tags": []
   },
   "outputs": [],
   "source": [
    "update_model.save('./weights/phase3_run3')"
   ]
  },
  {
   "cell_type": "code",
   "execution_count": 22,
   "id": "7ee1a943-ac62-4f91-b957-57aec8bbd69a",
   "metadata": {
    "tags": []
   },
   "outputs": [
    {
     "data": {
      "text/html": [
       "<video src=\"dynamic_images.mp4\" controls  >\n",
       "      Your browser does not support the <code>video</code> element.\n",
       "    </video>"
      ],
      "text/plain": [
       "<IPython.core.display.Video object>"
      ]
     },
     "execution_count": 22,
     "metadata": {},
     "output_type": "execute_result"
    },
    {
     "data": {
      "image/png": "[encoded data removed]",
      "text/plain": [
       "<Figure size 640x480 with 1 Axes>"
      ]
     },
     "metadata": {},
     "output_type": "display_data"
    }
   ],
   "source": [
    "generate_animation(history[-1])\n",
    "Video(filename=\"dynamic_images.mp4\")"
   ]
  }
 ],
 "metadata": {
  "kernelspec": {
   "display_name": "Python 3 (ipykernel)",
   "language": "python",
   "name": "python3"
  },
  "language_info": {
   "codemirror_mode": {
    "name": "ipython",
    "version": 3
   },
   "file_extension": ".py",
   "mimetype": "text/x-python",
   "name": "python",
   "nbconvert_exporter": "python",
   "pygments_lexer": "ipython3",
   "version": "3.10.9"
  }
 },
 "nbformat": 4,
 "nbformat_minor": 5
}
